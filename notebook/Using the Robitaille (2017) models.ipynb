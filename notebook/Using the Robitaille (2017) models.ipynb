{
 "cells": [
  {
   "cell_type": "markdown",
   "metadata": {},
   "source": [
    "## Using the Robitaille (2017) YSO SED models"
   ]
  },
  {
   "cell_type": "markdown",
   "metadata": {},
   "source": [
    "This notebook demonstrates how to use the YSO SED models published in Robitaille (2017)."
   ]
  },
  {
   "cell_type": "markdown",
   "metadata": {},
   "source": [
    "### Format"
   ]
  },
  {
   "cell_type": "markdown",
   "metadata": {},
   "source": [
    "The [published models](https://doi.org/10.5281/zenodo.166732) include a tar file for each set of models. The name of each\n",
    "model set is composed of several characters that indicate which component is present. The characters, in order, are:\n",
    "\n",
    "* ``s`` (star)\n",
    "* ``p`` (passive disk)\n",
    "* ``p`` (power-law envelope) or ``u`` (Ulrich envelope)\n",
    "* ``b`` (bipolar cavities)\n",
    "* ``h`` (inner hole)\n",
    "* ``m`` (ambient medium)\n",
    "* ``i`` (interstellar dust).\n",
    "\n",
    "If a component is absent, a hyphen (``-``) is given instead.\n",
    "\n",
    "Each tar file expands to give a directory with the same model set name. The format for each directory is described [here](http://sedfitter.readthedocs.io/en/stable/). \n",
    "\n",
    "The easiest way to access and fit these models in Python is to make use of the [astropy](http://www.astropy.org) and [sedfitter](http://sedfitter.readthedocs.io) packages."
   ]
  },
  {
   "cell_type": "markdown",
   "metadata": {},
   "source": [
    "### Accessing Parameters"
   ]
  },
  {
   "cell_type": "markdown",
   "metadata": {},
   "source": [
    "Each model directory contains a ``parameters.fits`` file that includes the parameters for all the models. To read this, you can use for example the [astropy.table](http://docs.astropy.org/en/stable/table/index.html) package:"
   ]
  },
  {
   "cell_type": "code",
   "execution_count": 1,
   "metadata": {
    "collapsed": true
   },
   "outputs": [],
   "source": [
    "from astropy.table import Table"
   ]
  },
  {
   "cell_type": "code",
   "execution_count": 2,
   "metadata": {
    "collapsed": false
   },
   "outputs": [],
   "source": [
    "t = Table.read('sp--s-i/parameters.fits')"
   ]
  },
  {
   "cell_type": "markdown",
   "metadata": {},
   "source": [
    "We can take a look at the first 15 rows of the table:"
   ]
  },
  {
   "cell_type": "code",
   "execution_count": 3,
   "metadata": {
    "collapsed": false
   },
   "outputs": [
    {
     "data": {
      "text/html": [
       "&lt;Table length=15&gt;\n",
       "<table id=\"table4590171472\" class=\"table-striped table-bordered table-condensed\">\n",
       "<thead><tr><th>MODEL_NAME</th><th>star.radius</th><th>star.temperature</th><th>disk.mass</th><th>disk.rmax</th><th>disk.beta</th><th>disk.p</th><th>disk.h100</th><th>scattering</th><th>inclination</th></tr></thead>\n",
       "<thead><tr><th>str20</th><th>float64</th><th>float64</th><th>float64</th><th>float64</th><th>float64</th><th>float64</th><th>float64</th><th>int64</th><th>float64</th></tr></thead>\n",
       "<tr><td>001eAZq2_01</td><td>0.3924</td><td>5734.0</td><td>1.293e-07</td><td>621.9</td><td>1.031</td><td>-1.566</td><td>8.384</td><td>1</td><td>9.31459655553</td></tr>\n",
       "<tr><td>001eAZq2_02</td><td>0.3924</td><td>5734.0</td><td>1.293e-07</td><td>621.9</td><td>1.031</td><td>-1.566</td><td>8.384</td><td>1</td><td>15.447589641</td></tr>\n",
       "<tr><td>001eAZq2_03</td><td>0.3924</td><td>5734.0</td><td>1.293e-07</td><td>621.9</td><td>1.031</td><td>-1.566</td><td>8.384</td><td>1</td><td>25.5465995801</td></tr>\n",
       "<tr><td>001eAZq2_04</td><td>0.3924</td><td>5734.0</td><td>1.293e-07</td><td>621.9</td><td>1.031</td><td>-1.566</td><td>8.384</td><td>1</td><td>32.2286947342</td></tr>\n",
       "<tr><td>001eAZq2_05</td><td>0.3924</td><td>5734.0</td><td>1.293e-07</td><td>621.9</td><td>1.031</td><td>-1.566</td><td>8.384</td><td>1</td><td>40.9575723094</td></tr>\n",
       "<tr><td>001eAZq2_06</td><td>0.3924</td><td>5734.0</td><td>1.293e-07</td><td>621.9</td><td>1.031</td><td>-1.566</td><td>8.384</td><td>1</td><td>52.3419693327</td></tr>\n",
       "<tr><td>001eAZq2_07</td><td>0.3924</td><td>5734.0</td><td>1.293e-07</td><td>621.9</td><td>1.031</td><td>-1.566</td><td>8.384</td><td>1</td><td>64.3422689634</td></tr>\n",
       "<tr><td>001eAZq2_08</td><td>0.3924</td><td>5734.0</td><td>1.293e-07</td><td>621.9</td><td>1.031</td><td>-1.566</td><td>8.384</td><td>1</td><td>78.0657625737</td></tr>\n",
       "<tr><td>001eAZq2_09</td><td>0.3924</td><td>5734.0</td><td>1.293e-07</td><td>621.9</td><td>1.031</td><td>-1.566</td><td>8.384</td><td>1</td><td>81.5416067501</td></tr>\n",
       "<tr><td>00p13Elr_01</td><td>28.17</td><td>21220.0</td><td>2.671e-07</td><td>498.2</td><td>1.258</td><td>-0.9808</td><td>1.22</td><td>1</td><td>3.85332102622</td></tr>\n",
       "<tr><td>00p13Elr_02</td><td>28.17</td><td>21220.0</td><td>2.671e-07</td><td>498.2</td><td>1.258</td><td>-0.9808</td><td>1.22</td><td>1</td><td>11.133984926</td></tr>\n",
       "<tr><td>00p13Elr_03</td><td>28.17</td><td>21220.0</td><td>2.671e-07</td><td>498.2</td><td>1.258</td><td>-0.9808</td><td>1.22</td><td>1</td><td>28.363228237</td></tr>\n",
       "<tr><td>00p13Elr_04</td><td>28.17</td><td>21220.0</td><td>2.671e-07</td><td>498.2</td><td>1.258</td><td>-0.9808</td><td>1.22</td><td>1</td><td>30.1570787856</td></tr>\n",
       "<tr><td>00p13Elr_05</td><td>28.17</td><td>21220.0</td><td>2.671e-07</td><td>498.2</td><td>1.258</td><td>-0.9808</td><td>1.22</td><td>1</td><td>47.8220967021</td></tr>\n",
       "<tr><td>00p13Elr_06</td><td>28.17</td><td>21220.0</td><td>2.671e-07</td><td>498.2</td><td>1.258</td><td>-0.9808</td><td>1.22</td><td>1</td><td>50.6620205011</td></tr>\n",
       "</table>"
      ],
      "text/plain": [
       "<Table length=15>\n",
       " MODEL_NAME star.radius star.temperature ... disk.h100 scattering  inclination \n",
       "   str20      float64       float64      ...  float64    int64       float64   \n",
       "----------- ----------- ---------------- ... --------- ---------- -------------\n",
       "001eAZq2_01      0.3924           5734.0 ...     8.384          1 9.31459655553\n",
       "001eAZq2_02      0.3924           5734.0 ...     8.384          1  15.447589641\n",
       "001eAZq2_03      0.3924           5734.0 ...     8.384          1 25.5465995801\n",
       "001eAZq2_04      0.3924           5734.0 ...     8.384          1 32.2286947342\n",
       "001eAZq2_05      0.3924           5734.0 ...     8.384          1 40.9575723094\n",
       "001eAZq2_06      0.3924           5734.0 ...     8.384          1 52.3419693327\n",
       "001eAZq2_07      0.3924           5734.0 ...     8.384          1 64.3422689634\n",
       "001eAZq2_08      0.3924           5734.0 ...     8.384          1 78.0657625737\n",
       "001eAZq2_09      0.3924           5734.0 ...     8.384          1 81.5416067501\n",
       "00p13Elr_01       28.17          21220.0 ...      1.22          1 3.85332102622\n",
       "00p13Elr_02       28.17          21220.0 ...      1.22          1  11.133984926\n",
       "00p13Elr_03       28.17          21220.0 ...      1.22          1  28.363228237\n",
       "00p13Elr_04       28.17          21220.0 ...      1.22          1 30.1570787856\n",
       "00p13Elr_05       28.17          21220.0 ...      1.22          1 47.8220967021\n",
       "00p13Elr_06       28.17          21220.0 ...      1.22          1 50.6620205011"
      ]
     },
     "execution_count": 3,
     "metadata": {},
     "output_type": "execute_result"
    }
   ],
   "source": [
    "t[:15]"
   ]
  },
  {
   "cell_type": "markdown",
   "metadata": {},
   "source": [
    "The model name is a unique name that identifies each model and the viewing angle is indicated in the suffix (e.g. ``_01``). The value of the inclination is also given in the ``inclination`` column. The remaining columns give the parameters for the models (which columns are present depends on the model set). The scattering column indicates whether scattered light is included in the SEDs (for some very optically thick models, scattering was disabled)."
   ]
  },
  {
   "cell_type": "markdown",
   "metadata": {},
   "source": [
    "### Accessing SEDs"
   ]
  },
  {
   "cell_type": "markdown",
   "metadata": {},
   "source": [
    "The easiest way to access the SEDs in Python is to use the ``SEDCube`` class from the sedfitter package to read in the ``flux.fits`` file for the model set you are interested in:"
   ]
  },
  {
   "cell_type": "code",
   "execution_count": 4,
   "metadata": {
    "collapsed": true
   },
   "outputs": [],
   "source": [
    "from sedfitter.sed import SEDCube"
   ]
  },
  {
   "cell_type": "code",
   "execution_count": 5,
   "metadata": {
    "collapsed": false
   },
   "outputs": [],
   "source": [
    "seds = SEDCube.read('sp--s-i/flux.fits')"
   ]
  },
  {
   "cell_type": "markdown",
   "metadata": {},
   "source": [
    "This 'SED cube' is an efficient way to store the models fluxes in a single 3D array, where the three dimensions are the model, the aperture, and the wavelength.\n",
    "\n",
    "The model names can be accessed with:"
   ]
  },
  {
   "cell_type": "code",
   "execution_count": 6,
   "metadata": {
    "collapsed": false
   },
   "outputs": [
    {
     "data": {
      "text/plain": [
       "chararray(['001eAZq2_01', '001eAZq2_02', '001eAZq2_03', ..., 'zzudHOIm_07',\n",
       "       'zzudHOIm_08', 'zzudHOIm_09'], \n",
       "      dtype='<U20')"
      ]
     },
     "execution_count": 6,
     "metadata": {},
     "output_type": "execute_result"
    }
   ],
   "source": [
    "seds.names"
   ]
  },
  {
   "cell_type": "markdown",
   "metadata": {},
   "source": [
    "while the apertures, wavelengths, and frequencies can be accessed with:"
   ]
  },
  {
   "cell_type": "code",
   "execution_count": 7,
   "metadata": {
    "collapsed": false
   },
   "outputs": [
    {
     "data": {
      "text/latex": [
       "$[100,~162.37767,~263.66509,~428.13324,~695.1928,~1128.8379,~1832.9807,~2976.3514,~4832.9302,~7847.5997,~12742.75,~20691.381,~33598.183,~54555.948,~88586.679,~143844.99,~233572.15,~379269.02,~615848.21,~1000000] \\; \\mathrm{AU}$"
      ],
      "text/plain": [
       "<Quantity [  1.00000000e+02,  1.62377674e+02,  2.63665090e+02,\n",
       "             4.28133240e+02,  6.95192796e+02,  1.12883789e+03,\n",
       "             1.83298071e+03,  2.97635144e+03,  4.83293024e+03,\n",
       "             7.84759970e+03,  1.27427499e+04,  2.06913808e+04,\n",
       "             3.35981829e+04,  5.45559478e+04,  8.85866790e+04,\n",
       "             1.43844989e+05,  2.33572147e+05,  3.79269019e+05,\n",
       "             6.15848211e+05,  1.00000000e+06] AU>"
      ]
     },
     "execution_count": 7,
     "metadata": {},
     "output_type": "execute_result"
    }
   ],
   "source": [
    "seds.apertures"
   ]
  },
  {
   "cell_type": "code",
   "execution_count": 8,
   "metadata": {
    "collapsed": false
   },
   "outputs": [
    {
     "data": {
      "text/latex": [
       "$[4838.6317,~4531.3511,~4243.5846,~\\dots, 0.011782491,~0.011034236,~0.010333499] \\; \\mathrm{\\mu m}$"
      ],
      "text/plain": [
       "<Quantity [  4.83863172e+03,  4.53135115e+03,  4.24358464e+03,\n",
       "             3.97409293e+03,  3.72171547e+03,  3.48536542e+03,\n",
       "             3.26402494e+03,  3.05674083e+03,  2.86262044e+03,\n",
       "             2.68082780e+03,  2.51058002e+03,  2.35114394e+03,\n",
       "             2.20183296e+03,  2.06200407e+03,  1.93105511e+03,\n",
       "             1.80842215e+03,  1.69357708e+03,  1.58602533e+03,\n",
       "             1.48530372e+03,  1.39097850e+03,  1.30264347e+03,\n",
       "             1.21991822e+03,  1.14244649e+03,  1.06989465e+03,\n",
       "             1.00195027e+03,  9.38320744e+02,  8.78732052e+02,\n",
       "             8.22927580e+02,  7.70667009e+02,  7.21725280e+02,\n",
       "             6.75891629e+02,  6.32968675e+02,  5.92771572e+02,\n",
       "             5.55127213e+02,  5.19873485e+02,  4.86858568e+02,\n",
       "             4.55940286e+02,  4.26985491e+02,  3.99869489e+02,\n",
       "             3.74475507e+02,  3.50694187e+02,  3.28423116e+02,\n",
       "             3.07566384e+02,  2.88034174e+02,  2.69742369e+02,\n",
       "             2.52612198e+02,  2.36569890e+02,  2.21546359e+02,\n",
       "             2.07476908e+02,  1.94300947e+02,  1.81961734e+02,\n",
       "             1.70406131e+02,  1.59584375e+02,  1.49449862e+02,\n",
       "             1.39958947e+02,  1.31070760e+02,  1.22747023e+02,\n",
       "             1.14951890e+02,  1.07651793e+02,  1.00815293e+02,\n",
       "             9.44129499e+01,  8.84171918e+01,  8.28021983e+01,\n",
       "             7.75437888e+01,  7.26193182e+01,  6.80075794e+01,\n",
       "             6.36887121e+01,  5.96441175e+01,  5.58563775e+01,\n",
       "             5.23091806e+01,  4.89872508e+01,  4.58762823e+01,\n",
       "             4.29628781e+01,  4.02344915e+01,  3.76793729e+01,\n",
       "             3.52865189e+01,  3.30456247e+01,  3.09470400e+01,\n",
       "             2.89817274e+01,  2.71412232e+01,  2.54176015e+01,\n",
       "             2.38034396e+01,  2.22917861e+01,  2.08761311e+01,\n",
       "             1.95503784e+01,  1.83088184e+01,  1.71461045e+01,\n",
       "             1.60572296e+01,  1.50375044e+01,  1.40825375e+01,\n",
       "             1.31882165e+01,  1.23506899e+01,  1.15663510e+01,\n",
       "             1.08318220e+01,  1.01439399e+01,  9.49974212e+00,\n",
       "             8.89645459e+00,  8.33147924e+00,  7.80238302e+00,\n",
       "             7.30688742e+00,  6.84285860e+00,  6.40829825e+00,\n",
       "             6.00133494e+00,  5.62021612e+00,  5.26330050e+00,\n",
       "             4.92905105e+00,  4.61602834e+00,  4.32288434e+00,\n",
       "             4.04835665e+00,  3.79126303e+00,  3.55049631e+00,\n",
       "             3.32501965e+00,  3.11386203e+00,  2.91611412e+00,\n",
       "             2.73092433e+00,  2.55749513e+00,  2.39507968e+00,\n",
       "             2.24297853e+00,  2.10053666e+00,  1.96714066e+00,\n",
       "             1.84221607e+00,  1.72522489e+00,  1.61566332e+00,\n",
       "             1.51305953e+00,  1.41697166e+00,  1.32698592e+00,\n",
       "             1.24271479e+00,  1.16379534e+00,  1.08988774e+00,\n",
       "             1.02067368e+00,  9.55855108e-01,  8.95152885e-01,\n",
       "             8.38305596e-01,  7.85068434e-01,  7.35212133e-01,\n",
       "             6.88521990e-01,  6.44796936e-01,  6.03848672e-01,\n",
       "             5.65500854e-01,  5.29588341e-01,  4.95956476e-01,\n",
       "             4.64460425e-01,  4.34964552e-01,  4.07341835e-01,\n",
       "             3.81473317e-01,  3.57247596e-01,  3.34560346e-01,\n",
       "             3.13313866e-01,  2.93416657e-01,  2.74783034e-01,\n",
       "             2.57332752e-01,  2.40990662e-01,  2.25686388e-01,\n",
       "             2.11354021e-01,  1.97931841e-01,  1.85362046e-01,\n",
       "             1.73590504e-01,  1.62566522e-01,  1.52242625e-01,\n",
       "             1.42574355e-01,  1.33520074e-01,  1.25040792e-01,\n",
       "             1.17099992e-01,  1.09663478e-01,  1.02699225e-01,\n",
       "             9.61772411e-02,  9.00694405e-02,  8.43495198e-02,\n",
       "             7.89928467e-02,  7.39763526e-02,  6.92784344e-02,\n",
       "             6.48788607e-02,  6.07586848e-02,  5.69001635e-02,\n",
       "             5.32866802e-02,  4.99026736e-02,  4.67335707e-02,\n",
       "             4.37657237e-02,  4.09863519e-02,  3.83834860e-02,\n",
       "             3.59459168e-02,  3.36631471e-02,  3.15253462e-02,\n",
       "             2.95233078e-02,  2.76484102e-02,  2.58925793e-02,\n",
       "             2.42482535e-02,  2.27083518e-02,  2.12662426e-02,\n",
       "             1.99157155e-02,  1.86509546e-02,  1.74665131e-02,\n",
       "             1.63572904e-02,  1.53185096e-02,  1.43456973e-02,\n",
       "             1.34346642e-02,  1.25814867e-02,  1.17824909e-02,\n",
       "             1.10342359e-02,  1.03334993e-02] um>"
      ]
     },
     "execution_count": 8,
     "metadata": {},
     "output_type": "execute_result"
    }
   ],
   "source": [
    "seds.wav"
   ]
  },
  {
   "cell_type": "code",
   "execution_count": 9,
   "metadata": {
    "collapsed": false
   },
   "outputs": [
    {
     "data": {
      "text/latex": [
       "$[6.1958106 \\times 10^{10},~6.6159617 \\times 10^{10},~7.0646042 \\times 10^{10},~\\dots, 2.5443895 \\times 10^{16},~2.7169299 \\times 10^{16},~2.9011707 \\times 10^{16}] \\; \\mathrm{Hz}$"
      ],
      "text/plain": [
       "<Quantity [  6.19581062e+10,  6.61596173e+10,  7.06460419e+10,\n",
       "             7.54367005e+10,  8.05522238e+10,  8.60146417e+10,\n",
       "             9.18474778e+10,  9.80758509e+10,  1.04726583e+11,\n",
       "             1.11828316e+11,  1.19411632e+11,  1.27509189e+11,\n",
       "             1.36155859e+11,  1.45388878e+11,  1.55248007e+11,\n",
       "             1.65775706e+11,  1.77017309e+11,  1.89021230e+11,\n",
       "             2.01839162e+11,  2.15526306e+11,  2.30141604e+11,\n",
       "             2.45747996e+11,  2.62412691e+11,  2.80207455e+11,\n",
       "             2.99208919e+11,  3.19498913e+11,  3.41164815e+11,\n",
       "             3.64299928e+11,  3.89003882e+11,  4.15383064e+11,\n",
       "             4.43551074e+11,  4.73629217e+11,  5.05747023e+11,\n",
       "             5.40042806e+11,  5.76664259e+11,  6.15769091e+11,\n",
       "             6.57525705e+11,  7.02113923e+11,  7.49725764e+11,\n",
       "             8.00566265e+11,  8.54854369e+11,  9.12823864e+11,\n",
       "             9.74724395e+11,  1.04082253e+12,  1.11140293e+12,\n",
       "             1.18676952e+12,  1.26724689e+12,  1.35318161e+12,\n",
       "             1.44494373e+12,  1.54292844e+12,  1.64755771e+12,\n",
       "             1.75928211e+12,  1.87858277e+12,  2.00597347e+12,\n",
       "             2.14200281e+12,  2.28725658e+12,  2.44236032e+12,\n",
       "             2.60798198e+12,  2.78483479e+12,  2.97368037e+12,\n",
       "             3.17533197e+12,  3.39065799e+12,  3.62058573e+12,\n",
       "             3.86610537e+12,  4.12827421e+12,  4.40822127e+12,\n",
       "             4.70715215e+12,  5.02635416e+12,  5.36720194e+12,\n",
       "             5.73116334e+12,  6.11980573e+12,  6.53480279e+12,\n",
       "             6.97794169e+12,  7.45113078e+12,  7.95640783e+12,\n",
       "             8.49594879e+12,  9.07207718e+12,  9.68727406e+12,\n",
       "             1.03441887e+13,  1.10456502e+13,  1.17946793e+13,\n",
       "             1.25945016e+13,  1.34485616e+13,  1.43605372e+13,\n",
       "             1.53343558e+13,  1.63742111e+13,  1.74845813e+13,\n",
       "             1.86702480e+13,  1.99363173e+13,  2.12882414e+13,\n",
       "             2.27318424e+13,  2.42733371e+13,  2.59193637e+13,\n",
       "             2.76770110e+13,  2.95538481e+13,  3.15579575e+13,\n",
       "             3.36979698e+13,  3.59831009e+13,  3.84231916e+13,\n",
       "             4.10287501e+13,  4.38109970e+13,  4.67819141e+13,\n",
       "             4.99542953e+13,  5.33418025e+13,  5.69590237e+13,\n",
       "             6.08215364e+13,  6.49459744e+13,  6.93500992e+13,\n",
       "             7.40528772e+13,  7.90745605e+13,  8.44367749e+13,\n",
       "             9.01626125e+13,  9.62767313e+13,  1.02805462e+14,\n",
       "             1.09776919e+14,  1.17221126e+14,  1.25170140e+14,\n",
       "             1.33658194e+14,  1.42721840e+14,  1.52400112e+14,\n",
       "             1.62734689e+14,  1.73770074e+14,  1.85553793e+14,\n",
       "             1.98136591e+14,  2.11572656e+14,  2.25919848e+14,\n",
       "             2.41239954e+14,  2.57598949e+14,  2.75067283e+14,\n",
       "             2.93720181e+14,  3.13637972e+14,  3.34906431e+14,\n",
       "             3.57617150e+14,  3.81867930e+14,  4.07763208e+14,\n",
       "             4.35414500e+14,  4.64940885e+14,  4.96469516e+14,\n",
       "             5.30136172e+14,  5.66085835e+14,  6.04473321e+14,\n",
       "             6.45463944e+14,  6.89234229e+14,  7.35972671e+14,\n",
       "             7.85880545e+14,  8.39172779e+14,  8.96078872e+14,\n",
       "             9.56843889e+14,  1.02172951e+15,  1.09101517e+15,\n",
       "             1.16499923e+15,  1.24400031e+15,  1.32835862e+15,\n",
       "             1.41843745e+15,  1.51462471e+15,  1.61733464e+15,\n",
       "             1.72700955e+15,  1.84412174e+15,  1.96917556e+15,\n",
       "             2.10270955e+15,  2.24529877e+15,  2.39755726e+15,\n",
       "             2.56014072e+15,  2.73374932e+15,  2.91913069e+15,\n",
       "             3.11708315e+15,  3.32845920e+15,  3.55416911e+15,\n",
       "             3.79518489e+15,  4.05254446e+15,  4.32735613e+15,\n",
       "             4.62080337e+15,  4.93414989e+15,  5.26874510e+15,\n",
       "             5.62602993e+15,  6.00754300e+15,  6.41492729e+15,\n",
       "             6.84993718e+15,  7.31444601e+15,  7.81045417e+15,\n",
       "             8.34009771e+15,  8.90565750e+15,  9.50956910e+15,\n",
       "             1.01544332e+16,  1.08430270e+16,  1.15783157e+16,\n",
       "             1.23634660e+16,  1.32018590e+16,  1.40971051e+16,\n",
       "             1.50530599e+16,  1.60738399e+16,  1.71638412e+16,\n",
       "             1.83277579e+16,  1.95706022e+16,  2.08977264e+16,\n",
       "             2.23148457e+16,  2.38280630e+16,  2.54438947e+16,\n",
       "             2.71692994e+16,  2.90117074e+16] Hz>"
      ]
     },
     "execution_count": 9,
     "metadata": {},
     "output_type": "execute_result"
    }
   ],
   "source": [
    "seds.nu"
   ]
  },
  {
   "cell_type": "markdown",
   "metadata": {},
   "source": [
    "A ``valid`` flag is used to indicate models that do not have complete/valid SEDs (for example because the model run did not complete):"
   ]
  },
  {
   "cell_type": "code",
   "execution_count": 10,
   "metadata": {
    "collapsed": false
   },
   "outputs": [
    {
     "data": {
      "text/plain": [
       "array([ True,  True,  True, ...,  True,  True,  True], dtype=bool)"
      ]
     },
     "execution_count": 10,
     "metadata": {},
     "output_type": "execute_result"
    }
   ],
   "source": [
    "seds.valid"
   ]
  },
  {
   "cell_type": "markdown",
   "metadata": {},
   "source": [
    "The fluxes and errors can be obtained using the ``val`` and\n",
    "``error`` attributes. We can check the shape of these arrays to check that they are indeed 3D arrays:"
   ]
  },
  {
   "cell_type": "code",
   "execution_count": 11,
   "metadata": {
    "collapsed": false
   },
   "outputs": [
    {
     "data": {
      "text/plain": [
       "(90000, 20, 200)"
      ]
     },
     "execution_count": 11,
     "metadata": {},
     "output_type": "execute_result"
    }
   ],
   "source": [
    "seds.val.shape"
   ]
  },
  {
   "cell_type": "code",
   "execution_count": 12,
   "metadata": {
    "collapsed": false
   },
   "outputs": [
    {
     "data": {
      "text/plain": [
       "(90000, 20, 200)"
      ]
     },
     "execution_count": 12,
     "metadata": {},
     "output_type": "execute_result"
    }
   ],
   "source": [
    "seds.val.shape"
   ]
  },
  {
   "cell_type": "markdown",
   "metadata": {},
   "source": [
    "For this model set, there are 90000 models (10000 physical models times 9 inclinations), 20 apertures, and 200 wavelengths."
   ]
  },
  {
   "cell_type": "markdown",
   "metadata": {},
   "source": [
    "To access a specific SED, you can call ``seds.get_sed`` using a particular\n",
    "model name:"
   ]
  },
  {
   "cell_type": "code",
   "execution_count": 13,
   "metadata": {
    "collapsed": false
   },
   "outputs": [],
   "source": [
    "sed = seds.get_sed('00p13Elr_03')"
   ]
  },
  {
   "cell_type": "markdown",
   "metadata": {},
   "source": [
    "The wavelength, flux, and error can then be accessed with:"
   ]
  },
  {
   "cell_type": "code",
   "execution_count": 14,
   "metadata": {
    "collapsed": false
   },
   "outputs": [
    {
     "data": {
      "text/latex": [
       "$[4838.6317,~4531.3511,~4243.5846,~\\dots, 0.011782491,~0.011034236,~0.010333499] \\; \\mathrm{\\mu m}$"
      ],
      "text/plain": [
       "<Quantity [  4.83863172e+03,  4.53135115e+03,  4.24358464e+03,\n",
       "             3.97409293e+03,  3.72171547e+03,  3.48536542e+03,\n",
       "             3.26402494e+03,  3.05674083e+03,  2.86262044e+03,\n",
       "             2.68082780e+03,  2.51058002e+03,  2.35114394e+03,\n",
       "             2.20183296e+03,  2.06200407e+03,  1.93105511e+03,\n",
       "             1.80842215e+03,  1.69357708e+03,  1.58602533e+03,\n",
       "             1.48530372e+03,  1.39097850e+03,  1.30264347e+03,\n",
       "             1.21991822e+03,  1.14244649e+03,  1.06989465e+03,\n",
       "             1.00195027e+03,  9.38320744e+02,  8.78732052e+02,\n",
       "             8.22927580e+02,  7.70667009e+02,  7.21725280e+02,\n",
       "             6.75891629e+02,  6.32968675e+02,  5.92771572e+02,\n",
       "             5.55127213e+02,  5.19873485e+02,  4.86858568e+02,\n",
       "             4.55940286e+02,  4.26985491e+02,  3.99869489e+02,\n",
       "             3.74475507e+02,  3.50694187e+02,  3.28423116e+02,\n",
       "             3.07566384e+02,  2.88034174e+02,  2.69742369e+02,\n",
       "             2.52612198e+02,  2.36569890e+02,  2.21546359e+02,\n",
       "             2.07476908e+02,  1.94300947e+02,  1.81961734e+02,\n",
       "             1.70406131e+02,  1.59584375e+02,  1.49449862e+02,\n",
       "             1.39958947e+02,  1.31070760e+02,  1.22747023e+02,\n",
       "             1.14951890e+02,  1.07651793e+02,  1.00815293e+02,\n",
       "             9.44129499e+01,  8.84171918e+01,  8.28021983e+01,\n",
       "             7.75437888e+01,  7.26193182e+01,  6.80075794e+01,\n",
       "             6.36887121e+01,  5.96441175e+01,  5.58563775e+01,\n",
       "             5.23091806e+01,  4.89872508e+01,  4.58762823e+01,\n",
       "             4.29628781e+01,  4.02344915e+01,  3.76793729e+01,\n",
       "             3.52865189e+01,  3.30456247e+01,  3.09470400e+01,\n",
       "             2.89817274e+01,  2.71412232e+01,  2.54176015e+01,\n",
       "             2.38034396e+01,  2.22917861e+01,  2.08761311e+01,\n",
       "             1.95503784e+01,  1.83088184e+01,  1.71461045e+01,\n",
       "             1.60572296e+01,  1.50375044e+01,  1.40825375e+01,\n",
       "             1.31882165e+01,  1.23506899e+01,  1.15663510e+01,\n",
       "             1.08318220e+01,  1.01439399e+01,  9.49974212e+00,\n",
       "             8.89645459e+00,  8.33147924e+00,  7.80238302e+00,\n",
       "             7.30688742e+00,  6.84285860e+00,  6.40829825e+00,\n",
       "             6.00133494e+00,  5.62021612e+00,  5.26330050e+00,\n",
       "             4.92905105e+00,  4.61602834e+00,  4.32288434e+00,\n",
       "             4.04835665e+00,  3.79126303e+00,  3.55049631e+00,\n",
       "             3.32501965e+00,  3.11386203e+00,  2.91611412e+00,\n",
       "             2.73092433e+00,  2.55749513e+00,  2.39507968e+00,\n",
       "             2.24297853e+00,  2.10053666e+00,  1.96714066e+00,\n",
       "             1.84221607e+00,  1.72522489e+00,  1.61566332e+00,\n",
       "             1.51305953e+00,  1.41697166e+00,  1.32698592e+00,\n",
       "             1.24271479e+00,  1.16379534e+00,  1.08988774e+00,\n",
       "             1.02067368e+00,  9.55855108e-01,  8.95152885e-01,\n",
       "             8.38305596e-01,  7.85068434e-01,  7.35212133e-01,\n",
       "             6.88521990e-01,  6.44796936e-01,  6.03848672e-01,\n",
       "             5.65500854e-01,  5.29588341e-01,  4.95956476e-01,\n",
       "             4.64460425e-01,  4.34964552e-01,  4.07341835e-01,\n",
       "             3.81473317e-01,  3.57247596e-01,  3.34560346e-01,\n",
       "             3.13313866e-01,  2.93416657e-01,  2.74783034e-01,\n",
       "             2.57332752e-01,  2.40990662e-01,  2.25686388e-01,\n",
       "             2.11354021e-01,  1.97931841e-01,  1.85362046e-01,\n",
       "             1.73590504e-01,  1.62566522e-01,  1.52242625e-01,\n",
       "             1.42574355e-01,  1.33520074e-01,  1.25040792e-01,\n",
       "             1.17099992e-01,  1.09663478e-01,  1.02699225e-01,\n",
       "             9.61772411e-02,  9.00694405e-02,  8.43495198e-02,\n",
       "             7.89928467e-02,  7.39763526e-02,  6.92784344e-02,\n",
       "             6.48788607e-02,  6.07586848e-02,  5.69001635e-02,\n",
       "             5.32866802e-02,  4.99026736e-02,  4.67335707e-02,\n",
       "             4.37657237e-02,  4.09863519e-02,  3.83834860e-02,\n",
       "             3.59459168e-02,  3.36631471e-02,  3.15253462e-02,\n",
       "             2.95233078e-02,  2.76484102e-02,  2.58925793e-02,\n",
       "             2.42482535e-02,  2.27083518e-02,  2.12662426e-02,\n",
       "             1.99157155e-02,  1.86509546e-02,  1.74665131e-02,\n",
       "             1.63572904e-02,  1.53185096e-02,  1.43456973e-02,\n",
       "             1.34346642e-02,  1.25814867e-02,  1.17824909e-02,\n",
       "             1.10342359e-02,  1.03334993e-02] um>"
      ]
     },
     "execution_count": 14,
     "metadata": {},
     "output_type": "execute_result"
    }
   ],
   "source": [
    "sed.wav"
   ]
  },
  {
   "cell_type": "code",
   "execution_count": 15,
   "metadata": {
    "collapsed": false
   },
   "outputs": [
    {
     "data": {
      "text/latex": [
       "$[[0.0017401365,~0.0019896533,~0.0022751596,~\\dots, 0,~0,~0],~\n",
       " [0.0017477027,~0.0019992895,~0.0022874335,~\\dots, 0,~0,~0],~\n",
       " [0.0017575057,~0.0020117739,~0.0023033337,~\\dots, 0,~0,~0],~\n",
       " \\dots, \n",
       " [0.0017750177,~0.0020340742,~0.0023317339,~\\dots, 0,~0,~0],~\n",
       " [0.0017750177,~0.0020340742,~0.0023317339,~\\dots, 0,~0,~0],~\n",
       " [0.0017750177,~0.0020340742,~0.0023317339,~\\dots, 0,~0,~0]] \\; \\mathrm{mJy}$"
      ],
      "text/plain": [
       "<Quantity [[ 0.00174014, 0.00198965, 0.00227516,...,  0.        ,\n",
       "             0.        , 0.        ],\n",
       "           [ 0.0017477 , 0.00199929, 0.00228743,...,  0.        ,\n",
       "             0.        , 0.        ],\n",
       "           [ 0.00175751, 0.00201177, 0.00230333,...,  0.        ,\n",
       "             0.        , 0.        ],\n",
       "           ..., \n",
       "           [ 0.00177502, 0.00203407, 0.00233173,...,  0.        ,\n",
       "             0.        , 0.        ],\n",
       "           [ 0.00177502, 0.00203407, 0.00233173,...,  0.        ,\n",
       "             0.        , 0.        ],\n",
       "           [ 0.00177502, 0.00203407, 0.00233173,...,  0.        ,\n",
       "             0.        , 0.        ]] mJy>"
      ]
     },
     "execution_count": 15,
     "metadata": {},
     "output_type": "execute_result"
    }
   ],
   "source": [
    "sed.flux"
   ]
  },
  {
   "cell_type": "code",
   "execution_count": 16,
   "metadata": {
    "collapsed": false,
    "scrolled": true
   },
   "outputs": [
    {
     "data": {
      "text/latex": [
       "$[[3.7498525 \\times 10^{-5},~4.2840831 \\times 10^{-5},~4.8944261 \\times 10^{-5},~\\dots, 0,~0,~0],~\n",
       " [3.7498965 \\times 10^{-5},~4.2841453 \\times 10^{-5},~4.8945149 \\times 10^{-5},~\\dots, 0,~0,~0],~\n",
       " [3.7499733 \\times 10^{-5},~4.2842545 \\times 10^{-5},~4.8946698 \\times 10^{-5},~\\dots, 0,~0,~0],~\n",
       " \\dots, \n",
       " [3.7501577 \\times 10^{-5},~4.284516 \\times 10^{-5},~4.8950409 \\times 10^{-5},~\\dots, 0,~0,~0],~\n",
       " [3.7501577 \\times 10^{-5},~4.284516 \\times 10^{-5},~4.8950409 \\times 10^{-5},~\\dots, 0,~0,~0],~\n",
       " [3.7501577 \\times 10^{-5},~4.284516 \\times 10^{-5},~4.8950409 \\times 10^{-5},~\\dots, 0,~0,~0]] \\; \\mathrm{mJy}$"
      ],
      "text/plain": [
       "<Quantity [[  3.74985248e-05,  4.28408312e-05,  4.89442609e-05,...,\n",
       "              0.00000000e+00,  0.00000000e+00,  0.00000000e+00],\n",
       "           [  3.74989650e-05,  4.28414533e-05,  4.89451486e-05,...,\n",
       "              0.00000000e+00,  0.00000000e+00,  0.00000000e+00],\n",
       "           [  3.74997326e-05,  4.28425446e-05,  4.89466984e-05,...,\n",
       "              0.00000000e+00,  0.00000000e+00,  0.00000000e+00],\n",
       "           ..., \n",
       "           [  3.75015770e-05,  4.28451604e-05,  4.89504091e-05,...,\n",
       "              0.00000000e+00,  0.00000000e+00,  0.00000000e+00],\n",
       "           [  3.75015770e-05,  4.28451604e-05,  4.89504091e-05,...,\n",
       "              0.00000000e+00,  0.00000000e+00,  0.00000000e+00],\n",
       "           [  3.75015770e-05,  4.28451604e-05,  4.89504091e-05,...,\n",
       "              0.00000000e+00,  0.00000000e+00,  0.00000000e+00]] mJy>"
      ]
     },
     "execution_count": 16,
     "metadata": {},
     "output_type": "execute_result"
    }
   ],
   "source": [
    "sed.error"
   ]
  },
  {
   "cell_type": "markdown",
   "metadata": {},
   "source": [
    "The SED is a 2D array with dimensions the number of apertures (20) and the number of wavelengths (200):"
   ]
  },
  {
   "cell_type": "code",
   "execution_count": 17,
   "metadata": {
    "collapsed": false
   },
   "outputs": [
    {
     "data": {
      "text/plain": [
       "(20, 200)"
      ]
     },
     "execution_count": 17,
     "metadata": {},
     "output_type": "execute_result"
    }
   ],
   "source": [
    "sed.flux.shape"
   ]
  },
  {
   "cell_type": "markdown",
   "metadata": {},
   "source": [
    "We can use this to visualize the SED:"
   ]
  },
  {
   "cell_type": "code",
   "execution_count": 18,
   "metadata": {
    "collapsed": false
   },
   "outputs": [],
   "source": [
    "%matplotlib inline\n",
    "import matplotlib.pyplot as plt"
   ]
  },
  {
   "cell_type": "code",
   "execution_count": 19,
   "metadata": {
    "collapsed": false
   },
   "outputs": [
    {
     "data": {
      "image/png": "[encoded data removed]",
      "text/plain": [
       "<matplotlib.figure.Figure at 0x11dc5fda0>"
      ]
     },
     "metadata": {},
     "output_type": "display_data"
    }
   ],
   "source": [
    "_ = plt.loglog(sed.wav, sed.flux.transpose(), 'k-', alpha=0.5)\n",
    "_ = plt.ylim(1e-2, 1e8)"
   ]
  },
  {
   "cell_type": "markdown",
   "metadata": {},
   "source": [
    "### Fitting SEDs to data"
   ]
  },
  {
   "cell_type": "markdown",
   "metadata": {},
   "source": [
    "To fit SEDs to observed data,  you can also make use of the [sedfitter](http://sedfitter.readthedocs.io) package.  To demonstrate this, we will fit the above models to the data for the NGC2264 source modelled in Robitaille (2017).\n",
    "\n",
    "What follows is a very short example - for more information on using the sedfitter package, be sure to read over the [documentation](http://sedfitter.readthedocs.io)."
   ]
  },
  {
   "cell_type": "code",
   "execution_count": 20,
   "metadata": {
    "collapsed": false
   },
   "outputs": [
    {
     "name": "stdout",
     "output_type": "stream",
     "text": [
      "20                             100.20250   9.59936 0 0 1 1 1 1 1 1 1 1 1 1 1 1 1 1 1 0 1 0 3 3   0.000e+00   0.000e+00   0.000e+00   0.000e+00   1.505e-02   1.505e-03   1.039e-01   1.039e-02   4.707e-01   4.707e-02   9.703e+00   9.703e-01   3.341e+01   3.341e+00   7.543e+01   7.543e+00   1.604e+02   1.604e+01   2.194e+02   2.194e+01   3.057e+02   3.057e+01   4.060e+02   4.060e+01   5.055e+02   5.055e+01   6.670e+02   6.670e+01   9.523e+02   9.523e+01   1.172e+03   1.172e+02   1.239e+03   1.239e+02   1.331e+03   1.331e+02   1.290e+03   1.290e+02   0.000e+00   0.000e+00   3.294e+03   1.000e+00   2.900e+02   1.000e+00 \r\n",
      "\r\n"
     ]
    }
   ],
   "source": [
    "%cat data_ngc2264_20"
   ]
  },
  {
   "cell_type": "markdown",
   "metadata": {},
   "source": [
    "We start off by setting up  the list of filters/wavelengths and approximate aperture radii used:"
   ]
  },
  {
   "cell_type": "code",
   "execution_count": 21,
   "metadata": {
    "collapsed": true
   },
   "outputs": [],
   "source": [
    "from astropy import units as u"
   ]
  },
  {
   "cell_type": "code",
   "execution_count": 22,
   "metadata": {
    "collapsed": false
   },
   "outputs": [],
   "source": [
    "filters = ['BU', 'BB', 'BV', 'BR', 'BI', '2J', '2H', '2K', 'I1', 'I2',\n",
    "           5.580 * u.micron, 7.650 * u.micron, 9.95 * u.micron,\n",
    "           12.93 * u.micron, 17.72 * u.micron, 24.28 * u.micron,\n",
    "           29.95 * u.micron, 35.06 * u.micron,\n",
    "           'M2', 'M3', 'W1', 'W2']"
   ]
  },
  {
   "cell_type": "code",
   "execution_count": 23,
   "metadata": {
    "collapsed": true
   },
   "outputs": [],
   "source": [
    "apertures = [3., 3., 3., 3., 3., 3., 3., 3., 3., 3., 3., 3., 3., 3., 3., 3.,\n",
    "             3., 3., 20., 30., 30., 30.] * u.arcsec"
   ]
  },
  {
   "cell_type": "markdown",
   "metadata": {},
   "source": [
    "We also set up the extinction law used in Robitaille (2017):"
   ]
  },
  {
   "cell_type": "code",
   "execution_count": 24,
   "metadata": {
    "collapsed": true
   },
   "outputs": [],
   "source": [
    "from sedfitter.extinction import Extinction"
   ]
  },
  {
   "cell_type": "code",
   "execution_count": 25,
   "metadata": {
    "collapsed": true
   },
   "outputs": [],
   "source": [
    "extinction = Extinction.from_file('whitney.r550.par')"
   ]
  },
  {
   "cell_type": "markdown",
   "metadata": {},
   "source": [
    "Finally, we run the fitting:"
   ]
  },
  {
   "cell_type": "code",
   "execution_count": 26,
   "metadata": {
    "collapsed": true
   },
   "outputs": [],
   "source": [
    "import sedfitter"
   ]
  },
  {
   "cell_type": "code",
   "execution_count": 27,
   "metadata": {
    "collapsed": false
   },
   "outputs": [
    {
     "name": "stdout",
     "output_type": "stream",
     "text": [
      " ------------------------------------------------------------\n",
      "  => Model parameters\n",
      " ------------------------------------------------------------\n",
      "\n",
      "   Models              :  sp--s-i\n",
      "   Log[d] stepping     :  0.02\n",
      "   Number of distances :  3\n",
      "\n",
      " ------------------------------------------------------------\n",
      "  => Reading in convolved fluxes\n",
      " ------------------------------------------------------------\n",
      "\n",
      "   Reading sp--s-i/convolved/BU.fits\n",
      "   Reading sp--s-i/convolved/BB.fits\n",
      "   Reading sp--s-i/convolved/BV.fits\n",
      "   Reading sp--s-i/convolved/BR.fits\n",
      "   Reading sp--s-i/convolved/BI.fits\n",
      "   Reading sp--s-i/convolved/2J.fits\n",
      "   Reading sp--s-i/convolved/2H.fits\n",
      "   Reading sp--s-i/convolved/2K.fits\n",
      "   Reading sp--s-i/convolved/I1.fits\n",
      "   Reading sp--s-i/convolved/I2.fits\n",
      "   Reading fluxes at 5.58 micron\n",
      "   Reading fluxes at 7.65 micron\n",
      "   Reading fluxes at 9.95 micron\n",
      "   Reading fluxes at 12.93 micron\n",
      "   Reading fluxes at 17.72 micron\n",
      "   Reading fluxes at 24.28 micron\n",
      "   Reading fluxes at 29.95 micron\n",
      "   Reading fluxes at 35.06 micron\n",
      "   Reading sp--s-i/convolved/M2.fits\n",
      "   Reading sp--s-i/convolved/M3.fits\n",
      "   Reading sp--s-i/convolved/W1.fits\n",
      "   Reading sp--s-i/convolved/W2.fits\n",
      " ------------------------------------------------------------\n",
      "  => Fitting parameters\n",
      " ------------------------------------------------------------\n",
      "\n",
      "   Minimum A_V      :     0.000 mag\n",
      "   Maximum A_V      :    40.000 mag\n",
      "   Minimum distance :     0.869 kpc\n",
      "   Maximum distance :     0.961 kpc\n",
      "\n",
      " ------------------------------------------------------------\n",
      "  => Output parameters\n",
      " ------------------------------------------------------------\n",
      "\n",
      "   File   : output_ngc2264_sp--s-i.fitinfo\n",
      "   Format : F\n",
      "   Number : 3\n",
      "\n",
      " ------------------------------------------------------------\n",
      "  => Data format parameters\n",
      " ------------------------------------------------------------\n",
      "\n",
      "   Number of filters :  22\n",
      "\n",
      "\n",
      "     Filter    Wavelength    Aperture (\")   \n",
      "    ----------------------------------------\n",
      "          BU        0.36       3.00        \n",
      "          BB        0.44       3.00        \n",
      "          BV        0.55       3.00        \n",
      "          BR        0.64       3.00        \n",
      "          BI        0.79       3.00        \n",
      "          2J        1.24       3.00        \n",
      "          2H        1.66       3.00        \n",
      "          2K        2.16       3.00        \n",
      "          I1        3.55       3.00        \n",
      "          I2        4.49       3.00        \n",
      "                    5.58       3.00        \n",
      "                    7.65       3.00        \n",
      "                    9.95       3.00        \n",
      "                   12.93       3.00        \n",
      "                   17.72       3.00        \n",
      "                   24.28       3.00        \n",
      "                   29.95       3.00        \n",
      "                   35.06       3.00        \n",
      "          M2       71.42      20.00        \n",
      "          M3      155.90      30.00        \n",
      "          W1      443.00      30.00        \n",
      "          W2      863.00      30.00        \n",
      "\n",
      "   # Sources    CPU time (sec)    Sources/sec  \n",
      " ----------------------------------------------\n",
      "          2              0.7           3.05\n"
     ]
    }
   ],
   "source": [
    "sedfitter.fit('data_ngc2264_20', filters, apertures, 'sp--s-i',\n",
    "              'output_ngc2264_sp--s-i.fitinfo',\n",
    "              extinction_law=extinction,\n",
    "              distance_range=[0.869, 0.961] * u.kpc,\n",
    "              av_range=[0., 40.],\n",
    "              output_format=('F', 3.),\n",
    "              output_convolved=False, remove_resolved=True)"
   ]
  },
  {
   "cell_type": "markdown",
   "metadata": {},
   "source": [
    "We now generate the SED plots with the data to examine the fit:"
   ]
  },
  {
   "cell_type": "code",
   "execution_count": 28,
   "metadata": {
    "collapsed": false
   },
   "outputs": [],
   "source": [
    "sedfitter.plot('output_ngc2264_sp--s-i.fitinfo',\n",
    "               output_dir='plots_sed', format='png',\n",
    "               plot_mode='A',\n",
    "               select_format=('F', 3.),\n",
    "               show_convolved=False, show_sed=True,\n",
    "               x_mode='M', x_range=(0.1, 2000),\n",
    "               y_mode='M', y_range=(1.e-14, 2e-8))"
   ]
  },
  {
   "cell_type": "code",
   "execution_count": 29,
   "metadata": {
    "collapsed": false
   },
   "outputs": [
    {
     "data": {
      "image/png": "[encoded data removed]",
      "text/plain": [
       "<IPython.core.display.Image object>"
      ]
     },
     "execution_count": 29,
     "metadata": {},
     "output_type": "execute_result"
    }
   ],
   "source": [
    "from IPython.display import Image\n",
    "Image('plots_sed/20.png')"
   ]
  }
 ],
 "metadata": {
  "anaconda-cloud": {},
  "kernelspec": {
   "display_name": "Python 3",
   "language": "python",
   "name": "python3"
  },
  "language_info": {
   "codemirror_mode": {
    "name": "ipython",
    "version": 3
   },
   "file_extension": ".py",
   "mimetype": "text/x-python",
   "name": "python",
   "nbconvert_exporter": "python",
   "pygments_lexer": "ipython3",
   "version": "3.6.0"
  }
 },
 "nbformat": 4,
 "nbformat_minor": 1
}
